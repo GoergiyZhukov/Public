{
 "cells": [
  {
   "cell_type": "markdown",
   "metadata": {},
   "source": [
    "### Проект: вариант 1\n",
    "\n",
    "Представьте, что вы работаете в компании, которая разрабатывает мобильные игры. К вам пришел менеджер с рядом задач по исследованию нескольких аспектов мобильного приложения:\n",
    "\n",
    "1. В первую очередь, его интересует показатель retention. Напишите функцию для его подсчета.\n",
    "2. Помимо этого, в компании провели A/B тестирование наборов акционных предложений. На основе имеющихся данных определите, какой набор можно считать лучшим и на основе каких метрик стоит принять правильное решение.\n",
    "3. Предложите метрики для оценки результатов последнего прошедшего тематического события в игре."
   ]
  },
  {
   "cell_type": "markdown",
   "metadata": {},
   "source": [
    "## Задание 1\n",
    "\n",
    "Retention – один из самых важных показателей в компании. Ваша задача – написать функцию, которая будет считать retention игроков (по дням от даты регистрации игрока).\n",
    "\n",
    "Функция должна быть написана на python. В ходе решения можно тестировать работу функции как на полном датасете, так и на части (сэмпле) данных."
   ]
  },
  {
   "cell_type": "code",
   "execution_count": 105,
   "metadata": {},
   "outputs": [],
   "source": [
    "# importing libraries\n",
    "\n",
    "import pandas as pd\n",
    "import numpy as np\n",
    "from datetime import datetime\n",
    "import matplotlib.pyplot as plt\n",
    "import seaborn as sns\n",
    "%matplotlib inline\n",
    "import warnings\n",
    "warnings.simplefilter(action='ignore')\n",
    "import scipy.stats as ss\n",
    "import scipy.stats as stats\n",
    "from tqdm.auto import tqdm\n",
    "import pingouin as pg"
   ]
  },
  {
   "cell_type": "code",
   "execution_count": 20,
   "metadata": {},
   "outputs": [],
   "source": [
    "path_reg = '/mnt/HC_Volume_18315164/home-jupyter/jupyter-g-zhukov/problem1-reg_data.csv'\n",
    "path_log = '/mnt/HC_Volume_18315164/home-jupyter/jupyter-g-zhukov/problem1-auth_data.csv'"
   ]
  },
  {
   "cell_type": "code",
   "execution_count": 47,
   "metadata": {},
   "outputs": [],
   "source": [
    "# data about the time of registration and data about the time when users log in to the game\n",
    "reg_time = pd.read_table(path_reg, sep=';')\n",
    "log_time = pd.read_csv(path_log, sep=';')"
   ]
  },
  {
   "cell_type": "code",
   "execution_count": 48,
   "metadata": {},
   "outputs": [
    {
     "data": {
      "text/html": [
       "<div>\n",
       "<style scoped>\n",
       "    .dataframe tbody tr th:only-of-type {\n",
       "        vertical-align: middle;\n",
       "    }\n",
       "\n",
       "    .dataframe tbody tr th {\n",
       "        vertical-align: top;\n",
       "    }\n",
       "\n",
       "    .dataframe thead th {\n",
       "        text-align: right;\n",
       "    }\n",
       "</style>\n",
       "<table border=\"1\" class=\"dataframe\">\n",
       "  <thead>\n",
       "    <tr style=\"text-align: right;\">\n",
       "      <th></th>\n",
       "      <th>reg_ts</th>\n",
       "      <th>uid</th>\n",
       "    </tr>\n",
       "  </thead>\n",
       "  <tbody>\n",
       "    <tr>\n",
       "      <th>0</th>\n",
       "      <td>911382223</td>\n",
       "      <td>1</td>\n",
       "    </tr>\n",
       "    <tr>\n",
       "      <th>1</th>\n",
       "      <td>932683089</td>\n",
       "      <td>2</td>\n",
       "    </tr>\n",
       "    <tr>\n",
       "      <th>2</th>\n",
       "      <td>947802447</td>\n",
       "      <td>3</td>\n",
       "    </tr>\n",
       "    <tr>\n",
       "      <th>3</th>\n",
       "      <td>959523541</td>\n",
       "      <td>4</td>\n",
       "    </tr>\n",
       "    <tr>\n",
       "      <th>4</th>\n",
       "      <td>969103313</td>\n",
       "      <td>5</td>\n",
       "    </tr>\n",
       "  </tbody>\n",
       "</table>\n",
       "</div>"
      ],
      "text/plain": [
       "      reg_ts  uid\n",
       "0  911382223    1\n",
       "1  932683089    2\n",
       "2  947802447    3\n",
       "3  959523541    4\n",
       "4  969103313    5"
      ]
     },
     "execution_count": 48,
     "metadata": {},
     "output_type": "execute_result"
    }
   ],
   "source": [
    "reg_time.head()"
   ]
  },
  {
   "cell_type": "code",
   "execution_count": 49,
   "metadata": {},
   "outputs": [
    {
     "data": {
      "text/html": [
       "<div>\n",
       "<style scoped>\n",
       "    .dataframe tbody tr th:only-of-type {\n",
       "        vertical-align: middle;\n",
       "    }\n",
       "\n",
       "    .dataframe tbody tr th {\n",
       "        vertical-align: top;\n",
       "    }\n",
       "\n",
       "    .dataframe thead th {\n",
       "        text-align: right;\n",
       "    }\n",
       "</style>\n",
       "<table border=\"1\" class=\"dataframe\">\n",
       "  <thead>\n",
       "    <tr style=\"text-align: right;\">\n",
       "      <th></th>\n",
       "      <th>auth_ts</th>\n",
       "      <th>uid</th>\n",
       "    </tr>\n",
       "  </thead>\n",
       "  <tbody>\n",
       "    <tr>\n",
       "      <th>0</th>\n",
       "      <td>911382223</td>\n",
       "      <td>1</td>\n",
       "    </tr>\n",
       "    <tr>\n",
       "      <th>1</th>\n",
       "      <td>932683089</td>\n",
       "      <td>2</td>\n",
       "    </tr>\n",
       "    <tr>\n",
       "      <th>2</th>\n",
       "      <td>932921206</td>\n",
       "      <td>2</td>\n",
       "    </tr>\n",
       "    <tr>\n",
       "      <th>3</th>\n",
       "      <td>933393015</td>\n",
       "      <td>2</td>\n",
       "    </tr>\n",
       "    <tr>\n",
       "      <th>4</th>\n",
       "      <td>933875379</td>\n",
       "      <td>2</td>\n",
       "    </tr>\n",
       "  </tbody>\n",
       "</table>\n",
       "</div>"
      ],
      "text/plain": [
       "     auth_ts  uid\n",
       "0  911382223    1\n",
       "1  932683089    2\n",
       "2  932921206    2\n",
       "3  933393015    2\n",
       "4  933875379    2"
      ]
     },
     "execution_count": 49,
     "metadata": {},
     "output_type": "execute_result"
    }
   ],
   "source": [
    "log_time.head()"
   ]
  },
  {
   "cell_type": "code",
   "execution_count": 50,
   "metadata": {},
   "outputs": [
    {
     "name": "stdout",
     "output_type": "stream",
     "text": [
      "<class 'pandas.core.frame.DataFrame'>\n",
      "RangeIndex: 1000000 entries, 0 to 999999\n",
      "Data columns (total 2 columns):\n",
      " #   Column  Non-Null Count    Dtype\n",
      "---  ------  --------------    -----\n",
      " 0   reg_ts  1000000 non-null  int64\n",
      " 1   uid     1000000 non-null  int64\n",
      "dtypes: int64(2)\n",
      "memory usage: 15.3 MB\n"
     ]
    }
   ],
   "source": [
    "reg_time.info()"
   ]
  },
  {
   "cell_type": "code",
   "execution_count": 51,
   "metadata": {},
   "outputs": [
    {
     "name": "stdout",
     "output_type": "stream",
     "text": [
      "<class 'pandas.core.frame.DataFrame'>\n",
      "RangeIndex: 9601013 entries, 0 to 9601012\n",
      "Data columns (total 2 columns):\n",
      " #   Column   Dtype\n",
      "---  ------   -----\n",
      " 0   auth_ts  int64\n",
      " 1   uid      int64\n",
      "dtypes: int64(2)\n",
      "memory usage: 146.5 MB\n"
     ]
    }
   ],
   "source": [
    "log_time.info()"
   ]
  },
  {
   "cell_type": "code",
   "execution_count": 52,
   "metadata": {},
   "outputs": [
    {
     "data": {
      "text/plain": [
       "reg_ts    1000000\n",
       "uid       1000000\n",
       "dtype: int64"
      ]
     },
     "execution_count": 52,
     "metadata": {},
     "output_type": "execute_result"
    }
   ],
   "source": [
    "# checking for duplicates and empty values\n",
    "reg_time.nunique()"
   ]
  },
  {
   "cell_type": "code",
   "execution_count": 53,
   "metadata": {},
   "outputs": [
    {
     "data": {
      "text/html": [
       "<div>\n",
       "<style scoped>\n",
       "    .dataframe tbody tr th:only-of-type {\n",
       "        vertical-align: middle;\n",
       "    }\n",
       "\n",
       "    .dataframe tbody tr th {\n",
       "        vertical-align: top;\n",
       "    }\n",
       "\n",
       "    .dataframe thead th {\n",
       "        text-align: right;\n",
       "    }\n",
       "</style>\n",
       "<table border=\"1\" class=\"dataframe\">\n",
       "  <thead>\n",
       "    <tr style=\"text-align: right;\">\n",
       "      <th></th>\n",
       "      <th>reg_ts</th>\n",
       "      <th>uid</th>\n",
       "    </tr>\n",
       "  </thead>\n",
       "  <tbody>\n",
       "  </tbody>\n",
       "</table>\n",
       "</div>"
      ],
      "text/plain": [
       "Empty DataFrame\n",
       "Columns: [reg_ts, uid]\n",
       "Index: []"
      ]
     },
     "execution_count": 53,
     "metadata": {},
     "output_type": "execute_result"
    }
   ],
   "source": [
    "reg_time[reg_time.duplicated()]"
   ]
  },
  {
   "cell_type": "code",
   "execution_count": 54,
   "metadata": {},
   "outputs": [
    {
     "data": {
      "text/plain": [
       "reg_ts    0\n",
       "uid       0\n",
       "dtype: int64"
      ]
     },
     "execution_count": 54,
     "metadata": {},
     "output_type": "execute_result"
    }
   ],
   "source": [
    "reg_time.isna().sum()"
   ]
  },
  {
   "cell_type": "code",
   "execution_count": 55,
   "metadata": {},
   "outputs": [
    {
     "data": {
      "text/plain": [
       "auth_ts    9180915\n",
       "uid        1000000\n",
       "dtype: int64"
      ]
     },
     "execution_count": 55,
     "metadata": {},
     "output_type": "execute_result"
    }
   ],
   "source": [
    "log_time.nunique()"
   ]
  },
  {
   "cell_type": "code",
   "execution_count": 56,
   "metadata": {},
   "outputs": [
    {
     "data": {
      "text/html": [
       "<div>\n",
       "<style scoped>\n",
       "    .dataframe tbody tr th:only-of-type {\n",
       "        vertical-align: middle;\n",
       "    }\n",
       "\n",
       "    .dataframe tbody tr th {\n",
       "        vertical-align: top;\n",
       "    }\n",
       "\n",
       "    .dataframe thead th {\n",
       "        text-align: right;\n",
       "    }\n",
       "</style>\n",
       "<table border=\"1\" class=\"dataframe\">\n",
       "  <thead>\n",
       "    <tr style=\"text-align: right;\">\n",
       "      <th></th>\n",
       "      <th>auth_ts</th>\n",
       "      <th>uid</th>\n",
       "    </tr>\n",
       "  </thead>\n",
       "  <tbody>\n",
       "  </tbody>\n",
       "</table>\n",
       "</div>"
      ],
      "text/plain": [
       "Empty DataFrame\n",
       "Columns: [auth_ts, uid]\n",
       "Index: []"
      ]
     },
     "execution_count": 56,
     "metadata": {},
     "output_type": "execute_result"
    }
   ],
   "source": [
    "log_time[log_time.duplicated()]"
   ]
  },
  {
   "cell_type": "code",
   "execution_count": 57,
   "metadata": {},
   "outputs": [
    {
     "data": {
      "text/plain": [
       "auth_ts    0\n",
       "uid        0\n",
       "dtype: int64"
      ]
     },
     "execution_count": 57,
     "metadata": {},
     "output_type": "execute_result"
    }
   ],
   "source": [
    "log_time.isna().sum()"
   ]
  },
  {
   "cell_type": "code",
   "execution_count": 21,
   "metadata": {},
   "outputs": [],
   "source": [
    "def retention(path_reg, path_log):\n",
    "    \"\"\"Функция для расчета Retention пользователей по дням от даты регистрации:\n",
    "            path_reg - путь к файлу с информацией о регистрации пользователей;\n",
    "            path_log - путь к файлу с датой захода пользователей в приложение;\n",
    "            start - минимальная дата регистрации пользователей - первая когорта;\n",
    "            end - максимальная дата регистрации пользователей - последняя когорта;\n",
    "            lifetime - время жизни когорт, исчисляемое количеством дней с момента регистрации.\n",
    "    На выходе дает таблицу с когортным анализом по дням повторных действий.\n",
    "    \"\"\"\n",
    "    # read data\n",
    "    reg_df = pd.read_csv(path_reg, sep=';')\n",
    "    auth_df = pd.read_csv(path_log, sep=';')\n",
    "    \n",
    "    # Запрос даты начала и окончания расчета и кол-ва дней, до которых считать retention\n",
    "    start = datetime.strptime(input('Введите начальную дату регистрации в формате YYYY-MM-DD: '), '%Y-%m-%d').date()\n",
    "    end = datetime.strptime(input('Введите конечную дату регистрации в формате YYYY-MM-DD: '), '%Y-%m-%d').date()\n",
    "    lifetime = int(input('Введите количество дней для расчёта retention '))\n",
    "    print(f'Retention от {start} до {end} на {lifetime} день.')\n",
    "\n",
    "    # convert the date display by converting it to datetime format\n",
    "    reg_df['reg_ts'] = pd.to_datetime(reg_df['reg_ts'], unit='s')\n",
    "    auth_df['auth_ts'] = pd.to_datetime(auth_df['auth_ts'], unit='s')\n",
    "    \n",
    "    # select the temporary data that falls into the calculation\n",
    "    reg_df = reg_df.query(\"reg_ts >= @start and reg_ts <= @end\")\n",
    "    auth_df = auth_df.query(\"auth_ts >= @start\")\n",
    "    \n",
    "    # merge \n",
    "    df = reg_df.merge(auth_df, on='uid', how='left')\n",
    "       \n",
    "    # calculate the lifetime of each cohort in the number of days \n",
    "    df['difference'] = (df.auth_ts - df.reg_ts).dt.days\n",
    "    \n",
    "    # build a summary table for further calculation of Retention\n",
    "    cohort_pivot = df.query(\"difference <= @lifetime\") \\\n",
    "        .groupby(['reg_ts', 'difference']).agg({'uid': pd.Series.nunique}) \\\n",
    "        .reset_index().assign(reg_ts=lambda x: x['reg_ts'].dt.date) \\\n",
    "        .pivot_table(index='reg_ts', columns='difference', values='uid', aggfunc='sum')\n",
    "    \n",
    "    # calculating Retention\n",
    "    retention = round(cohort_pivot.div(cohort_pivot[0], axis=0) * 100, 1).iloc[:-1, 1:]\n",
    "    cohort = cohort_pivot.iloc[:, 0]\n",
    "    retention.insert(loc=0, column='cohort', value=cohort)\n",
    "    \n",
    "              \n",
    "    # building a heat map\n",
    "    plt.figure(figsize=(14, 8))\n",
    "    retention = sns.heatmap(retention, linewidths=1, cmap='RdPu', vmin=0, vmax=10, cbar=False, \n",
    "                            annot=True, fmt='g', annot_kws={\"fontsize\": 10})\n",
    "    plt.title('Retention rate', fontsize=15)\n",
    "    plt.xlabel('Кол-во дней от даты регистрации', fontsize=12)\n",
    "    plt.ylabel('Дата регистрации', fontsize=12)\n",
    "    plt.yticks(rotation=0)\n",
    "    plt.show()\n",
    "    \n",
    "    return retention"
   ]
  },
  {
   "cell_type": "code",
   "execution_count": 22,
   "metadata": {},
   "outputs": [
    {
     "name": "stdout",
     "output_type": "stream",
     "text": [
      "Введите начальную дату регистрации в формате YYYY-MM-DD: 2019-05-01\n",
      "Введите конечную дату регистрации в формате YYYY-MM-DD: 2019-05-18\n",
      "Введите количество дней для расчёта retention 15\n",
      "Retention от 2019-05-01 до 2019-05-18 на 15 день.\n"
     ]
    },
    {
     "data": {
      "image/png": "[encoded data removed]",
      "text/plain": [
       "<Figure size 1008x576 with 1 Axes>"
      ]
     },
     "metadata": {
      "needs_background": "light"
     },
     "output_type": "display_data"
    },
    {
     "data": {
      "text/plain": [
       "<matplotlib.axes._subplots.AxesSubplot at 0x7f38b7e7f860>"
      ]
     },
     "execution_count": 22,
     "metadata": {},
     "output_type": "execute_result"
    }
   ],
   "source": [
    "retention(path_reg, path_log)"
   ]
  },
  {
   "cell_type": "markdown",
   "metadata": {},
   "source": [
    "Наблюдается низкий RR первого дня (1-2%) авторизаций пользователей. Возможно это связано с процессом регистрации, авторизации или оплаты пользователями. Потом наблюдается увеличение RR на протяжении первых 10-12 дней (среднее время удержания в игре) со дня регистрации до 7-8% и плавный спад к концу месяца. Рекомендуется провести анализ причин низкого RR в первые дни после регистрации."
   ]
  },
  {
   "cell_type": "code",
   "execution_count": null,
   "metadata": {},
   "outputs": [],
   "source": []
  },
  {
   "cell_type": "markdown",
   "metadata": {},
   "source": [
    "## Задание 2\n",
    "\n",
    "Имеются результаты A/B теста, в котором двум группам пользователей предлагались различные наборы акционных предложений. Известно, что ARPU в тестовой группе выше на 5%, чем в контрольной. При этом в контрольной группе 1928 игроков из 202103 оказались платящими, а в тестовой – 1805 из 202667.\n",
    "\n",
    "Какой набор предложений можно считать лучшим? Какие метрики стоит проанализировать для принятия правильного решения и как?"
   ]
  },
  {
   "cell_type": "code",
   "execution_count": 106,
   "metadata": {},
   "outputs": [],
   "source": [
    "# data A/B test\n",
    "path_ab = '/mnt/HC_Volume_18315164/home-jupyter/jupyter-g-zhukov/Проект_1_Задание_2.csv'\n",
    "df = pd.read_csv(path_ab, sep=';')"
   ]
  },
  {
   "cell_type": "code",
   "execution_count": 81,
   "metadata": {},
   "outputs": [
    {
     "data": {
      "text/html": [
       "<div>\n",
       "<style scoped>\n",
       "    .dataframe tbody tr th:only-of-type {\n",
       "        vertical-align: middle;\n",
       "    }\n",
       "\n",
       "    .dataframe tbody tr th {\n",
       "        vertical-align: top;\n",
       "    }\n",
       "\n",
       "    .dataframe thead th {\n",
       "        text-align: right;\n",
       "    }\n",
       "</style>\n",
       "<table border=\"1\" class=\"dataframe\">\n",
       "  <thead>\n",
       "    <tr style=\"text-align: right;\">\n",
       "      <th></th>\n",
       "      <th>user_id</th>\n",
       "      <th>revenue</th>\n",
       "      <th>testgroup</th>\n",
       "    </tr>\n",
       "  </thead>\n",
       "  <tbody>\n",
       "    <tr>\n",
       "      <th>0</th>\n",
       "      <td>1</td>\n",
       "      <td>0</td>\n",
       "      <td>b</td>\n",
       "    </tr>\n",
       "    <tr>\n",
       "      <th>1</th>\n",
       "      <td>2</td>\n",
       "      <td>0</td>\n",
       "      <td>a</td>\n",
       "    </tr>\n",
       "    <tr>\n",
       "      <th>2</th>\n",
       "      <td>3</td>\n",
       "      <td>0</td>\n",
       "      <td>a</td>\n",
       "    </tr>\n",
       "    <tr>\n",
       "      <th>3</th>\n",
       "      <td>4</td>\n",
       "      <td>0</td>\n",
       "      <td>b</td>\n",
       "    </tr>\n",
       "    <tr>\n",
       "      <th>4</th>\n",
       "      <td>5</td>\n",
       "      <td>0</td>\n",
       "      <td>b</td>\n",
       "    </tr>\n",
       "  </tbody>\n",
       "</table>\n",
       "</div>"
      ],
      "text/plain": [
       "   user_id  revenue testgroup\n",
       "0        1        0         b\n",
       "1        2        0         a\n",
       "2        3        0         a\n",
       "3        4        0         b\n",
       "4        5        0         b"
      ]
     },
     "execution_count": 81,
     "metadata": {},
     "output_type": "execute_result"
    }
   ],
   "source": [
    "df.head()"
   ]
  },
  {
   "cell_type": "markdown",
   "metadata": {},
   "source": [
    " Смотрим на типы данных, пропущенные значения"
   ]
  },
  {
   "cell_type": "code",
   "execution_count": 82,
   "metadata": {},
   "outputs": [
    {
     "name": "stdout",
     "output_type": "stream",
     "text": [
      "<class 'pandas.core.frame.DataFrame'>\n",
      "RangeIndex: 404770 entries, 0 to 404769\n",
      "Data columns (total 3 columns):\n",
      " #   Column     Non-Null Count   Dtype \n",
      "---  ------     --------------   ----- \n",
      " 0   user_id    404770 non-null  int64 \n",
      " 1   revenue    404770 non-null  int64 \n",
      " 2   testgroup  404770 non-null  object\n",
      "dtypes: int64(2), object(1)\n",
      "memory usage: 9.3+ MB\n"
     ]
    }
   ],
   "source": [
    "df.info()"
   ]
  },
  {
   "cell_type": "code",
   "execution_count": 83,
   "metadata": {
    "scrolled": true
   },
   "outputs": [
    {
     "data": {
      "text/plain": [
       "user_id      404770\n",
       "revenue        1477\n",
       "testgroup         2\n",
       "dtype: int64"
      ]
     },
     "execution_count": 83,
     "metadata": {},
     "output_type": "execute_result"
    }
   ],
   "source": [
    "df.nunique()"
   ]
  },
  {
   "cell_type": "markdown",
   "metadata": {},
   "source": [
    " Посмотрим показатели revenue в каждой из групп."
   ]
  },
  {
   "cell_type": "code",
   "execution_count": 84,
   "metadata": {},
   "outputs": [
    {
     "data": {
      "text/plain": [
       "count    202103.0\n",
       "mean         25.0\n",
       "std         921.0\n",
       "min           0.0\n",
       "25%           0.0\n",
       "50%           0.0\n",
       "75%           0.0\n",
       "max       37433.0\n",
       "Name: revenue, dtype: float64"
      ]
     },
     "execution_count": 84,
     "metadata": {},
     "output_type": "execute_result"
    }
   ],
   "source": [
    "df[df.testgroup == 'a'].revenue.describe().round()"
   ]
  },
  {
   "cell_type": "code",
   "execution_count": 85,
   "metadata": {
    "scrolled": false
   },
   "outputs": [
    {
     "data": {
      "text/plain": [
       "count    202667.0\n",
       "mean         27.0\n",
       "std         287.0\n",
       "min           0.0\n",
       "25%           0.0\n",
       "50%           0.0\n",
       "75%           0.0\n",
       "max        4000.0\n",
       "Name: revenue, dtype: float64"
      ]
     },
     "execution_count": 85,
     "metadata": {},
     "output_type": "execute_result"
    }
   ],
   "source": [
    "df[df.testgroup == 'b'].revenue.describe().round()"
   ]
  },
  {
   "cell_type": "markdown",
   "metadata": {},
   "source": [
    "Видим очень сильные различия в максимальном ревенью, а также сильную разницу в средне-квадратичном отклонении."
   ]
  },
  {
   "cell_type": "markdown",
   "metadata": {},
   "source": [
    "\n",
    "Проверка утверждения о том, что ARPU в тестовой группе выше на 5%, чем в контрольной"
   ]
  },
  {
   "cell_type": "code",
   "execution_count": 86,
   "metadata": {},
   "outputs": [],
   "source": [
    "# split the data into two more tables: the data of the control group and the data of the test group\n",
    "a_group = df.query(\"testgroup == 'a'\")\n",
    "b_group = df.query(\"testgroup == 'b'\")"
   ]
  },
  {
   "cell_type": "code",
   "execution_count": 87,
   "metadata": {},
   "outputs": [
    {
     "data": {
      "text/plain": [
       "5.56"
      ]
     },
     "execution_count": 87,
     "metadata": {},
     "output_type": "execute_result"
    }
   ],
   "source": [
    "ARPU_test = ((b_group.revenue.sum() - a_group.revenue.sum()) / a_group.revenue.sum()) * 100\n",
    "ARPU_test.round(2)"
   ]
  },
  {
   "cell_type": "markdown",
   "metadata": {},
   "source": [
    "Построим график по платящим пользователям, чтобы лучше понимать ситуацию."
   ]
  },
  {
   "cell_type": "code",
   "execution_count": 88,
   "metadata": {
    "scrolled": false
   },
   "outputs": [
    {
     "data": {
      "image/png": "[encoded data removed]",
      "text/plain": [
       "<Figure size 1440x360 with 1 Axes>"
      ]
     },
     "metadata": {
      "needs_background": "light"
     },
     "output_type": "display_data"
    }
   ],
   "source": [
    "plt.figure(figsize=(20, 5))\n",
    "sns.set(font_scale=1.5)\n",
    "z = sns.histplot(x='revenue', data=df.query('revenue > 0'), hue='testgroup')\n",
    "z.set_xlabel(\"Выручка на 1 платящего пользователя, у.е.\")\n",
    "z.set_ylabel(\"Кол-во пользователей\")\n",
    "z.set(title=\"Распределение выручки в группах среди платящих\")\n",
    "plt.show()"
   ]
  },
  {
   "cell_type": "code",
   "execution_count": 89,
   "metadata": {},
   "outputs": [],
   "source": [
    "# divide the dataset into a control one for convenience\n",
    "control = df.query('testgroup == \"a\" and revenue > 0')"
   ]
  },
  {
   "cell_type": "code",
   "execution_count": 90,
   "metadata": {},
   "outputs": [
    {
     "data": {
      "text/plain": [
       "123"
      ]
     },
     "execution_count": 90,
     "metadata": {},
     "output_type": "execute_result"
    }
   ],
   "source": [
    "control.query('revenue>35000')['user_id'].count()"
   ]
  },
  {
   "cell_type": "code",
   "execution_count": 91,
   "metadata": {},
   "outputs": [
    {
     "data": {
      "text/plain": [
       "6.0"
      ]
     },
     "execution_count": 91,
     "metadata": {},
     "output_type": "execute_result"
    }
   ],
   "source": [
    "100 * (control.query('revenue>35000')['revenue'].count() / control['user_id'].count()).round(2)"
   ]
  },
  {
   "cell_type": "code",
   "execution_count": 92,
   "metadata": {},
   "outputs": [
    {
     "data": {
      "text/plain": [
       "89.0"
      ]
     },
     "execution_count": 92,
     "metadata": {},
     "output_type": "execute_result"
    }
   ],
   "source": [
    "100 * (control.query('revenue>35000')['revenue'].sum() / control.revenue.sum()).round(2)"
   ]
  },
  {
   "cell_type": "markdown",
   "metadata": {},
   "source": [
    " По гистограмме видно, что тестовая и контрольная группы сильно отличаются. В контрольной группе выручка распределена неравномерно\n",
    "- основная часть пользователей приносят выручку от 200 до 400 у.е.\n",
    "- небольшая группа приносит выручку свыше 35000 у.е. (123 человека (6%) дают 89% выручки)\n",
    "\n",
    "В тестовой группе платежи распределены более равномерно\n",
    "- сумма платежей в несколько раз превышает значения небольших платежей в контрольной группе и в несколько раз ниже крупных платежей контрольной группы.\n",
    "\n",
    "Наблюдается явный перекос и неравномерность в значениях Revenue по двум группам.\n",
    "\n",
    "**Первым вопросом к заданию был вопрос о том, какой набор предложений по результатам тестирования можно считать лучшим?**\n",
    "Судя по уже полученным данным можно с большой уверенностью сказать, что репрезентатичность выборок была нарушена, поэтому группы необходимо пересобрать. \n",
    "\n",
    "**Вторым вопросом был вопрос о том, какие метрики стоит проанализировать для принятия правильного решения и как?**\n",
    "Видно, что огромная доля пользователей не платит, поэтому стоит отдельно рассмотреть только платящих. Значит помимо метрики ARPU нужно рассчитать метрику ARPPU. Также мы можем рассчитать Conversion Rate и посмотреть, какая доля из общего числа пользователей совершает целевое действие (платит).\n",
    "\n"
   ]
  },
  {
   "cell_type": "markdown",
   "metadata": {},
   "source": [
    "Если мы уверены, что распределили пользователей корректно, то тогда имеет смысл оценить статистически значимы различия в группах или нет. По гистограммам видно, что распредления являются не нормальными. Выборки большого размера, поэтому можем использовать Т-тест. Для начала посмотрим различия во всех основных показателях и определимся, по какому показателю будем оценивать различия."
   ]
  },
  {
   "cell_type": "markdown",
   "metadata": {},
   "source": [
    "Посмотрим на данные по выручке, arpu, arppu и conversion rate в каждой группе"
   ]
  },
  {
   "cell_type": "code",
   "execution_count": 93,
   "metadata": {},
   "outputs": [],
   "source": [
    "# form a dataset with all users, add information about paying users\n",
    "paying = df.query('revenue>0').groupby('testgroup', as_index=False).agg({'user_id': 'nunique'}) \\\n",
    "    .rename(columns={'user_id': 'paying_users'})"
   ]
  },
  {
   "cell_type": "code",
   "execution_count": 94,
   "metadata": {},
   "outputs": [],
   "source": [
    "# form a dataset with all users, add information about paying users\n",
    "df1 = df.groupby('testgroup', as_index=False).agg({'user_id': 'nunique', 'revenue': 'sum'})\\\n",
    "    .merge(paying, how='left', on='testgroup').rename(columns={'user_id': 'users'})"
   ]
  },
  {
   "cell_type": "code",
   "execution_count": 95,
   "metadata": {},
   "outputs": [
    {
     "data": {
      "text/html": [
       "<div>\n",
       "<style scoped>\n",
       "    .dataframe tbody tr th:only-of-type {\n",
       "        vertical-align: middle;\n",
       "    }\n",
       "\n",
       "    .dataframe tbody tr th {\n",
       "        vertical-align: top;\n",
       "    }\n",
       "\n",
       "    .dataframe thead th {\n",
       "        text-align: right;\n",
       "    }\n",
       "</style>\n",
       "<table border=\"1\" class=\"dataframe\">\n",
       "  <thead>\n",
       "    <tr style=\"text-align: right;\">\n",
       "      <th></th>\n",
       "      <th>testgroup</th>\n",
       "      <th>users</th>\n",
       "      <th>revenue</th>\n",
       "      <th>paying_users</th>\n",
       "      <th>arpu</th>\n",
       "      <th>arppu</th>\n",
       "      <th>CR</th>\n",
       "    </tr>\n",
       "  </thead>\n",
       "  <tbody>\n",
       "    <tr>\n",
       "      <th>0</th>\n",
       "      <td>a</td>\n",
       "      <td>202103</td>\n",
       "      <td>5136189</td>\n",
       "      <td>1928</td>\n",
       "      <td>25.41</td>\n",
       "      <td>2664.00</td>\n",
       "      <td>0.954</td>\n",
       "    </tr>\n",
       "    <tr>\n",
       "      <th>1</th>\n",
       "      <td>b</td>\n",
       "      <td>202667</td>\n",
       "      <td>5421603</td>\n",
       "      <td>1805</td>\n",
       "      <td>26.75</td>\n",
       "      <td>3003.66</td>\n",
       "      <td>0.891</td>\n",
       "    </tr>\n",
       "  </tbody>\n",
       "</table>\n",
       "</div>"
      ],
      "text/plain": [
       "  testgroup   users  revenue  paying_users   arpu    arppu     CR\n",
       "0         a  202103  5136189          1928  25.41  2664.00  0.954\n",
       "1         b  202667  5421603          1805  26.75  3003.66  0.891"
      ]
     },
     "execution_count": 95,
     "metadata": {},
     "output_type": "execute_result"
    }
   ],
   "source": [
    "# calculate the arpu, arppu and conversion rate (CR) indicators\n",
    "df1['arpu'] = (df1['revenue'] / df1['users']).round(2)\n",
    "df1['arppu'] = (df1['revenue'] / df1['paying_users']).round(2)\n",
    "df1['CR'] = (100 * (df1['paying_users'] / df1['users'])).round(3)\n",
    "df1"
   ]
  },
  {
   "cell_type": "markdown",
   "metadata": {},
   "source": [
    "Видно, что в контрольной группе показатели arpu и arppu ниже, чем в тестовой, однако конверсия в покупку (CR) выше у контрольной группы. Используем Т-тест для revenue.\n",
    "- Н0 - различий у групп нет\n",
    "- Н1 - группы значимо различаются. "
   ]
  },
  {
   "cell_type": "code",
   "execution_count": 96,
   "metadata": {},
   "outputs": [
    {
     "data": {
      "text/html": [
       "<div>\n",
       "<style scoped>\n",
       "    .dataframe tbody tr th:only-of-type {\n",
       "        vertical-align: middle;\n",
       "    }\n",
       "\n",
       "    .dataframe tbody tr th {\n",
       "        vertical-align: top;\n",
       "    }\n",
       "\n",
       "    .dataframe thead th {\n",
       "        text-align: right;\n",
       "    }\n",
       "</style>\n",
       "<table border=\"1\" class=\"dataframe\">\n",
       "  <thead>\n",
       "    <tr style=\"text-align: right;\">\n",
       "      <th></th>\n",
       "      <th>T</th>\n",
       "      <th>dof</th>\n",
       "      <th>alternative</th>\n",
       "      <th>p-val</th>\n",
       "      <th>CI95%</th>\n",
       "      <th>cohen-d</th>\n",
       "      <th>BF10</th>\n",
       "      <th>power</th>\n",
       "    </tr>\n",
       "  </thead>\n",
       "  <tbody>\n",
       "    <tr>\n",
       "      <th>T-test</th>\n",
       "      <td>-0.623488</td>\n",
       "      <td>240991.130782</td>\n",
       "      <td>two-sided</td>\n",
       "      <td>0.532965</td>\n",
       "      <td>[-5.54, 2.87]</td>\n",
       "      <td>0.001962</td>\n",
       "      <td>0.004</td>\n",
       "      <td>0.095694</td>\n",
       "    </tr>\n",
       "  </tbody>\n",
       "</table>\n",
       "</div>"
      ],
      "text/plain": [
       "               T            dof alternative     p-val          CI95%  \\\n",
       "T-test -0.623488  240991.130782   two-sided  0.532965  [-5.54, 2.87]   \n",
       "\n",
       "         cohen-d   BF10     power  \n",
       "T-test  0.001962  0.004  0.095694  "
      ]
     },
     "execution_count": 96,
     "metadata": {},
     "output_type": "execute_result"
    }
   ],
   "source": [
    "# assessment by revenue\n",
    "pg.ttest(x=df[df.testgroup == 'a'].revenue,\n",
    "         y=df[df.testgroup == 'b'].revenue)"
   ]
  },
  {
   "cell_type": "markdown",
   "metadata": {},
   "source": [
    "Значение p-value > 0,05, следовательно, принимаем нулевую гипотезу, что различий в группах нет."
   ]
  },
  {
   "cell_type": "markdown",
   "metadata": {},
   "source": [
    " Конверсия является бинарной.\n",
    "В нашем эксперименте 2 независимые группы (тест/контроль).\n",
    "Для данных условий лучше всего подходит статистический тест Хи-квадрат Пирсона.\n",
    "- H0: конверсия в тестовой и контрольной группах не различается \n",
    "- H1: конверсия в тестовой и контрольной группах различается\n",
    "\n",
    "Для определения статистическо значимых различий в конверсии между группами, воспользуемся таблицей сопряженности Гипотезы:"
   ]
  },
  {
   "cell_type": "code",
   "execution_count": 97,
   "metadata": {},
   "outputs": [
    {
     "data": {
      "text/html": [
       "<div>\n",
       "<style scoped>\n",
       "    .dataframe tbody tr th:only-of-type {\n",
       "        vertical-align: middle;\n",
       "    }\n",
       "\n",
       "    .dataframe tbody tr th {\n",
       "        vertical-align: top;\n",
       "    }\n",
       "\n",
       "    .dataframe thead th {\n",
       "        text-align: right;\n",
       "    }\n",
       "</style>\n",
       "<table border=\"1\" class=\"dataframe\">\n",
       "  <thead>\n",
       "    <tr style=\"text-align: right;\">\n",
       "      <th></th>\n",
       "      <th>users</th>\n",
       "      <th>paying_users</th>\n",
       "    </tr>\n",
       "    <tr>\n",
       "      <th>testgroup</th>\n",
       "      <th></th>\n",
       "      <th></th>\n",
       "    </tr>\n",
       "  </thead>\n",
       "  <tbody>\n",
       "    <tr>\n",
       "      <th>a</th>\n",
       "      <td>202103</td>\n",
       "      <td>1928</td>\n",
       "    </tr>\n",
       "    <tr>\n",
       "      <th>b</th>\n",
       "      <td>202667</td>\n",
       "      <td>1805</td>\n",
       "    </tr>\n",
       "  </tbody>\n",
       "</table>\n",
       "</div>"
      ],
      "text/plain": [
       "            users  paying_users\n",
       "testgroup                      \n",
       "a          202103          1928\n",
       "b          202667          1805"
      ]
     },
     "execution_count": 97,
     "metadata": {},
     "output_type": "execute_result"
    }
   ],
   "source": [
    "df1.set_index('testgroup')[['users', 'paying_users']]"
   ]
  },
  {
   "cell_type": "code",
   "execution_count": 98,
   "metadata": {},
   "outputs": [],
   "source": [
    "df['paying'] = df['revenue'].apply(lambda x: 'yes' if x > 0 else 'no')"
   ]
  },
  {
   "cell_type": "code",
   "execution_count": 99,
   "metadata": {},
   "outputs": [
    {
     "data": {
      "text/html": [
       "<div>\n",
       "<style scoped>\n",
       "    .dataframe tbody tr th:only-of-type {\n",
       "        vertical-align: middle;\n",
       "    }\n",
       "\n",
       "    .dataframe tbody tr th {\n",
       "        vertical-align: top;\n",
       "    }\n",
       "\n",
       "    .dataframe thead th {\n",
       "        text-align: right;\n",
       "    }\n",
       "</style>\n",
       "<table border=\"1\" class=\"dataframe\">\n",
       "  <thead>\n",
       "    <tr style=\"text-align: right;\">\n",
       "      <th>testgroup</th>\n",
       "      <th>a</th>\n",
       "      <th>b</th>\n",
       "    </tr>\n",
       "    <tr>\n",
       "      <th>paying</th>\n",
       "      <th></th>\n",
       "      <th></th>\n",
       "    </tr>\n",
       "  </thead>\n",
       "  <tbody>\n",
       "    <tr>\n",
       "      <th>no</th>\n",
       "      <td>200175</td>\n",
       "      <td>200862</td>\n",
       "    </tr>\n",
       "    <tr>\n",
       "      <th>yes</th>\n",
       "      <td>1928</td>\n",
       "      <td>1805</td>\n",
       "    </tr>\n",
       "  </tbody>\n",
       "</table>\n",
       "</div>"
      ],
      "text/plain": [
       "testgroup       a       b\n",
       "paying                   \n",
       "no         200175  200862\n",
       "yes          1928    1805"
      ]
     },
     "execution_count": 99,
     "metadata": {},
     "output_type": "execute_result"
    }
   ],
   "source": [
    "table = pd.crosstab(df.paying, df.testgroup)\n",
    "table"
   ]
  },
  {
   "cell_type": "code",
   "execution_count": 100,
   "metadata": {},
   "outputs": [
    {
     "data": {
      "text/plain": [
       "0.03647561892312613"
      ]
     },
     "execution_count": 100,
     "metadata": {},
     "output_type": "execute_result"
    }
   ],
   "source": [
    "# Pearson's Chi-square test\n",
    "stat, p, dof, expected = stats.chi2_contingency(table)\n",
    "p"
   ]
  },
  {
   "cell_type": "markdown",
   "metadata": {},
   "source": [
    "p-value < 0.05 следовательно нулевая гипотеза отвергается, поэтому мы можем сказать, что различие в конверсии в покупку между контрольной и тестовой группой является статистически значимым"
   ]
  },
  {
   "cell_type": "markdown",
   "metadata": {},
   "source": [
    "Проверим возможность использования T-критерия Стьюдента, а также проверим с помощью критерия Левена гомогенность дисперсий внутри групп."
   ]
  },
  {
   "cell_type": "markdown",
   "metadata": {},
   "source": [
    "Критерий Левена\n",
    "- H0 - Дисперсии внутри тестовой и контрольной группы примерно равны (p-value > 0.05)\n",
    "- H1 - Дисперсии внутри тестовой и контрольной группы различаются (p-value < 0.05)"
   ]
  },
  {
   "cell_type": "code",
   "execution_count": 101,
   "metadata": {
    "scrolled": true
   },
   "outputs": [
    {
     "data": {
      "text/plain": [
       "LeveneResult(statistic=0.3896289474701388, pvalue=0.5324948591043842)"
      ]
     },
     "execution_count": 101,
     "metadata": {},
     "output_type": "execute_result"
    }
   ],
   "source": [
    "ss.levene(a_group.revenue, b_group.revenue)"
   ]
  },
  {
   "cell_type": "markdown",
   "metadata": {},
   "source": [
    " p > 0,05 отколнить нулевую гипотезу нельзя. Требование гомогенности дисперсий соблюдается, возможно использование Т-критерия Стьюдента."
   ]
  },
  {
   "cell_type": "markdown",
   "metadata": {},
   "source": [
    "#### ARPPU\n",
    "- Н0 - разница в значениях revenue между тестовой и контрольной отсутствует (если р-уровень значимости больше 0.05)\n",
    "- Н1 - разница в значениях revenue существует (р-уровень значимости меньше 0.05)"
   ]
  },
  {
   "cell_type": "code",
   "execution_count": 102,
   "metadata": {},
   "outputs": [
    {
     "data": {
      "text/plain": [
       "Ttest_indResult(statistic=-0.6242026493616787, pvalue=0.532494858971837)"
      ]
     },
     "execution_count": 102,
     "metadata": {},
     "output_type": "execute_result"
    }
   ],
   "source": [
    "# t-test\n",
    "ss.ttest_ind(a_group.revenue, b_group.revenue)"
   ]
  },
  {
   "cell_type": "markdown",
   "metadata": {},
   "source": [
    "pvalue > 0.05 - принимаем нулевую гипотезу, т.е. в наших группах нет статистически значимых различий"
   ]
  },
  {
   "cell_type": "markdown",
   "metadata": {},
   "source": [
    "Чтобы смоделировать среднее в ГС можно воспользоваться методом бутстрап, который из имеющейся выборки берет множество подвыборок и сравнивает их средние значения. Чем больше подвыборок мы сделаем, тем ближе будет среднее всех выборочных средних к среднему в реальной ГС. Сравним средние в группе А с выбросами и средние в этой же группе, но без выбросов, методом бутстрап:\n",
    "- H0 – в генеральной совокупности никакого различия между средней выручкой нет \n",
    "- H1 – средние по выручке в генеральной совокупности не равны (альтернативная гипотеза)\n",
    "- Порог значимости - 0,05 (если в результате теста мы получим p-value больше 0,05, то различий между средними в группах нет и выбросы не оказывают статистически значимого влияния на среднее)."
   ]
  },
  {
   "cell_type": "code",
   "execution_count": 111,
   "metadata": {},
   "outputs": [],
   "source": [
    "def get_bootstrap( \n",
    "        \n",
    "    data,  # dataframe with data by groups \n",
    "    boot_it,  # number of bootstrap subsamples \n",
    "    bootstrap_conf_level,  # significance level\n",
    "    metrica=''  # analyzed metric, default metrica = CR\n",
    "):\n",
    "    boot_data = []\n",
    "    boot_len = max([len(data.query(\"testgroup == 'a'\")), len(data.query(\"testgroup == 'b'\"))])\n",
    "    for i in tqdm(range(boot_it)):  # extracting a subsample\n",
    "        samples = data.sample(boot_len, replace=True)  # return parameter\n",
    "        if metrica == 'CR' or metrica == '':\n",
    "            CR_1 = samples.query(\"testgroup == 'a'\").agg({'user_id': 'count'}).user_id\\\n",
    "                / samples.query(\"testgroup == 'a' and revenue != 0\").agg({'user_id': 'count'}).user_id\n",
    "            CR_2 = samples.query(\"testgroup == 'b'\").agg({'user_id': 'count'}).user_id\\\n",
    "                / samples.query(\"testgroup == 'b' and revenue != 0\").agg({'user_id': 'count'}).user_id\n",
    "            boot_data.append(CR_1 - CR_2)\n",
    "        elif metrica == 'ARPU':\n",
    "            ARPU_1 = samples.query(\"testgroup == 'a'\").agg({'revenue': 'sum'}).revenue\\\n",
    "                / samples.query(\"testgroup == 'a'\").agg({'user_id': 'count'}).user_id\n",
    "            ARPU_2 = samples.query(\"testgroup == 'b'\").agg({'revenue': 'sum'}).revenue\\\n",
    "                / samples.query(\"testgroup == 'b'\").agg({'user_id': 'count'}).user_id\n",
    "            boot_data.append(ARPU_1 - ARPU_2)\n",
    "        elif metrica == 'ARPPU':\n",
    "            ARPPU_1 = samples.query(\"testgroup == 'a' and revenue != 0\").agg({'revenue': 'sum'}).revenue\\\n",
    "                / samples.query(\"testgroup == 'a' and revenue != 0\").agg({'user_id': 'count'}).user_id\n",
    "            ARPPU_2 = samples.query(\"testgroup == 'b' and revenue != 0\").agg({'revenue': 'sum'}).revenue\\\n",
    "                / samples.query(\"testgroup == 'b' and revenue != 0\").agg({'user_id': 'count'}).user_id\n",
    "            boot_data.append(ARPPU_1 - ARPPU_2)\n",
    "        \n",
    "    pd_boot_data = pd.DataFrame(boot_data)\n",
    "        \n",
    "    # confidence intervals    \n",
    "    left_quant = (1 - bootstrap_conf_level) / 2\n",
    "    right_quant = 1 - (1 - bootstrap_conf_level) / 2\n",
    "    quants = pd_boot_data.quantile([left_quant, right_quant])\n",
    "    \n",
    "    # p-value\n",
    "    p_1 = stats.norm.cdf(\n",
    "        x=0, \n",
    "        loc=np.mean(boot_data), \n",
    "        scale=np.std(boot_data)\n",
    "    )\n",
    "    p_2 = stats.norm.cdf(\n",
    "        x=0, \n",
    "        loc=-np.mean(boot_data), \n",
    "        scale=np.std(boot_data)\n",
    "    )\n",
    "    p_value = min(p_1, p_2) * 2\n",
    "    \n",
    "    # visualization\n",
    "    _, _, bars = plt.hist(pd_boot_data[0], bins=50)\n",
    "    for bar in bars:\n",
    "        if bar.get_x() <= quants.iloc[0][0] or bar.get_x() >= quants.iloc[1][0]:\n",
    "            bar.set_facecolor('red')\n",
    "        else: \n",
    "            bar.set_facecolor('grey')\n",
    "            bar.set_edgecolor('black')\n",
    "    \n",
    "    plt.style.use('ggplot')\n",
    "    plt.vlines(quants, ymin=0, ymax=50, linestyle='--')\n",
    "    plt.xlabel('Разница бутстрапированных средних значений')\n",
    "    plt.ylabel('Количество')\n",
    "    plt.title(\"Распределение бутстрапированных средних значений\")\n",
    "    plt.show()\n",
    "       \n",
    "    return {\"boot_data\": boot_data, \n",
    "            \"quants\": quants, \n",
    "            \"p_value\": p_value}"
   ]
  },
  {
   "cell_type": "code",
   "execution_count": 112,
   "metadata": {
    "scrolled": true
   },
   "outputs": [
    {
     "data": {
      "application/vnd.jupyter.widget-view+json": {
       "model_id": "ad25cb1a4c2a4eb783a521175d247792",
       "version_major": 2,
       "version_minor": 0
      },
      "text/plain": [
       "HBox(children=(FloatProgress(value=0.0, max=1000.0), HTML(value='')))"
      ]
     },
     "metadata": {},
     "output_type": "display_data"
    },
    {
     "name": "stdout",
     "output_type": "stream",
     "text": [
      "\n"
     ]
    },
    {
     "data": {
      "image/png": "[encoded data removed]",
      "text/plain": [
       "<Figure size 432x288 with 1 Axes>"
      ]
     },
     "metadata": {
      "needs_background": "light"
     },
     "output_type": "display_data"
    }
   ],
   "source": [
    "booted_data = get_bootstrap(df, 1000, 0.95, 'ARPPU')"
   ]
  },
  {
   "cell_type": "code",
   "execution_count": 37,
   "metadata": {},
   "outputs": [
    {
     "data": {
      "text/plain": [
       "0.27800148188121443"
      ]
     },
     "execution_count": 37,
     "metadata": {},
     "output_type": "execute_result"
    }
   ],
   "source": [
    "booted_data[\"p_value\"]"
   ]
  },
  {
   "cell_type": "markdown",
   "metadata": {},
   "source": [
    "'0' лежит в границах доверительного интервала, значит по итогам этого теста у нас нет оснований отклонить нулевую гипотезу.\n",
    "Если посмотреть на p-value, то он значительно больше 0,05, что также подтверждает верность нулевой гипотезы"
   ]
  },
  {
   "cell_type": "markdown",
   "metadata": {},
   "source": [
    " p-value < 0.05 следовательно нулевая гипотеза отвергается, поэтому мы можем сказать, что различие в конверсии в покупку между контрольной и тестовой группой является статистически значимым"
   ]
  },
  {
   "cell_type": "markdown",
   "metadata": {},
   "source": [
    "### Выводы\n",
    "\n",
    "- По результатам проведенного А/В тестирования проанализированы метрики конверсии в покупку (CR), средний доход на одного пользователя (ARPU) и средний доход на одного платящего пользователя (ARPPU), написана функция проверки гипотез методом bootstrap.\n",
    "\n",
    "- На основании проведенных исследований мы выяснили, что показатели ARPU и ARPPU оказались выше в тестовой группе, однако данное различие оказалось статистически незначимо. В то же время конверсия в покупку CR оказалась выше в контрольной группе, при этом различие казалось статически значимым.\n",
    "\n",
    "- На основании выводов о CR можно сказать, что набор акций неблагоприятно сказался на конверсии в покупку у тестовой группы, где количество платящих пользователей стало ниже, а размер тестовой группы оказался выше, чем в контрольной. При этом данный показатель игнорирует размер выручки, который в тестовой группе оказался выше.\n",
    "\n",
    "- По результатам A/B теста в датасете выявлены 3 категории пользователей: \n",
    "  1. платят немного (в диапазоне 200-400)\n",
    "  2. платят очень много (>35000, топовые клиенты), обе эти категории пользователей попали в контрольную группу, в тестовой группе их нет.\n",
    "  3. платят в диапазоне 2000-4000, попали только в тестовую группу.\n",
    "\n",
    "Из-за слишком большого разброса наших пользователей по значению revenue в группах, делаю вывод, что репрезентативность выборок нарушена. Имеющиеся выборки неправильно сформированы, между контрольной и тестовой группами нечестно распределены пользователи по размеру revenue.\n",
    "\n",
    "Покупательная способность пользователей в выборках различна, значит обе группы не соответствуют генеральной совокупности всех пользователей.\n",
    "\n",
    "Исходя из результатов нельзя сделать однозначный вывод о том, что набор акционных предложений оказался лучше или хуже в определенной группе. *Если же рассматривать вариант, что предоставленные данные корректные, то я бы предложил использовать тестовое акционное предложение, потому что в данном случае поведение пользователей можно назвать более предсказуемым (нормальное распределение и выше средний кейс покупки), но при этом заняться исследованием \"выброса\" в А-группе, которые дали огромный прирост (89% генерируется 6% пользоваталей) выручки.*\n",
    "\n",
    "**Если смотреть по фактам: считаю, что результаты A/B теста неудачные, и какие-то дальнейшие сравнения двух групп бессмысленны. Рекомендую пересобрать группы и провести тестирование заново.**\n",
    "\n",
    "После этого нужно будет пересчитать и проанализировать метрики ARPU, ARPPU и CR. И если мы получим статзначимые различия, то тогда сможем принять решение, какой же набор предложений можно считать лучшим."
   ]
  },
  {
   "cell_type": "code",
   "execution_count": null,
   "metadata": {},
   "outputs": [],
   "source": []
  },
  {
   "cell_type": "markdown",
   "metadata": {},
   "source": [
    "## Задание 3\n",
    "\n",
    " В игре Plants & Gardens каждый месяц проводятся тематические события, ограниченные по времени. В них игроки могут получить уникальные предметы для сада и персонажей, дополнительные монеты или бонусы. Для получения награды требуется пройти ряд уровней за определенное время. С помощью каких метрик можно оценить результаты последнего прошедшего события?\n",
    " \n",
    " По условиям, тематические события дают ряд преимуществ или бонусов для игроков, которые в них участвуют, следовательно, такие события могут сопровождаться ростом числа игроков, вовлеченности, увеличением длины сессии  и, возможно, приведут к росту выручки.\n",
    " \n",
    " ##### Показатели, которые позволят отследить рост числа игроков:\n",
    "\n",
    "- Средний DAU/MAU (или stickiness ratio) - покажет частоту, с которой пользователь взаимодействует с приложением\n",
    "\n",
    "- DAU/WAU/MAU - покажут число активных юзеров за период\n",
    "\n",
    "- отношение числа новых пользователей за какой-то промежуток времени ко всем пользователям за этот же промежуток времени\n",
    "\n",
    "\n",
    "##### Показатели, которые позволят отследить кол-во сессий и их продолжительность\n",
    " \n",
    "- средняя длина сессии (ASD)\n",
    "\n",
    "- количество сессий (NoS)\n",
    "\n",
    "##### Показатели, которые позволят отследить увеличение вовлеченности и выручки\n",
    "\n",
    "- ARPU/ARPPU - средняя выручка на юзера/платящего юзера\n",
    "- Retenion Rate - коэффициент удержания клиентов\n",
    "- Средний чек - размер среднего чека\n",
    "\n",
    "Предположим, в другом событии мы усложнили механику событий так, что при каждой неудачной попытке выполнения уровня игрок будет откатываться на несколько уровней назад. Изменится ли набор метрик оценки результата? Если да, то как?\n",
    " \n",
    " \n",
    "- Усложнение механики потенциально может вызвать отток клиентов, в этом случае необходимо дополнительно отслеживать показатель Retenion Rate. Если он постоянно падает, то, возможно, в игре есть какие-то проблемы (баги) и их нужно устранить максимально быстро.\n",
    "- Среднее количество попыток, затраченных на прохождение каждого уровня, а также среднее количество уровней, на которое были отброшены игроки - это даст представление о том, насколько сложными оказались уровни с новой механикой для игроков.\n",
    "- Также целесообразно построить воронку конверсии и посмотреть конкретно из какого уровня в следующий конверсия самая низкая. В идеале это должна быть равномерная воронка конверсии. Если процент конверсии где-то аномально низкий, то такие уровни необходимо перебалансировать."
   ]
  },
  {
   "cell_type": "code",
   "execution_count": null,
   "metadata": {},
   "outputs": [],
   "source": []
  }
 ],
 "metadata": {
  "kernelspec": {
   "display_name": "Python 3",
   "language": "python",
   "name": "python3"
  },
  "language_info": {
   "codemirror_mode": {
    "name": "ipython",
    "version": 3
   },
   "file_extension": ".py",
   "mimetype": "text/x-python",
   "name": "python",
   "nbconvert_exporter": "python",
   "pygments_lexer": "ipython3",
   "version": "3.7.3"
  }
 },
 "nbformat": 4,
 "nbformat_minor": 4
}
